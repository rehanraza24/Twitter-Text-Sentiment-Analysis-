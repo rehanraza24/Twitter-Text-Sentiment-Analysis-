{
 "cells": [
  {
   "cell_type": "markdown",
   "metadata": {
    "colab_type": "text",
    "id": "n6TuJhlR9B-Z"
   },
   "source": [
    "## Word Embedding using Word2Vec:\n",
    "In this Notebook i will see Word Embeddings."
   ]
  },
  {
   "cell_type": "code",
   "execution_count": 1,
   "metadata": {
    "colab": {},
    "colab_type": "code",
    "id": "0K3qLSzJLjIa"
   },
   "outputs": [
    {
     "name": "stdout",
     "output_type": "stream",
     "text": [
      "Requirement already satisfied: nltk in c:\\users\\dream walker\\anaconda3\\envs\\ai\\lib\\site-packages (3.5)\n",
      "Requirement already satisfied: tqdm in c:\\users\\dream walker\\anaconda3\\envs\\ai\\lib\\site-packages (from nltk) (4.51.0)\n",
      "Requirement already satisfied: joblib in c:\\users\\dream walker\\anaconda3\\envs\\ai\\lib\\site-packages (from nltk) (0.17.0)\n",
      "Requirement already satisfied: regex in c:\\users\\dream walker\\anaconda3\\envs\\ai\\lib\\site-packages (from nltk) (2020.10.15)\n",
      "Requirement already satisfied: click in c:\\users\\dream walker\\anaconda3\\envs\\ai\\lib\\site-packages (from nltk) (7.1.2)\n",
      "Collecting gensim\n",
      "  Downloading gensim-3.8.3-cp37-cp37m-win_amd64.whl (24.2 MB)\n",
      "Collecting smart-open>=1.8.1\n",
      "  Downloading smart_open-4.0.1.tar.gz (117 kB)\n",
      "Requirement already satisfied: numpy>=1.11.3 in c:\\users\\dream walker\\anaconda3\\envs\\ai\\lib\\site-packages (from gensim) (1.19.1)\n",
      "Requirement already satisfied: six>=1.5.0 in c:\\users\\dream walker\\anaconda3\\envs\\ai\\lib\\site-packages (from gensim) (1.15.0)\n",
      "Collecting Cython==0.29.14\n",
      "  Downloading Cython-0.29.14-cp37-cp37m-win_amd64.whl (1.7 MB)\n",
      "Requirement already satisfied: scipy>=0.18.1 in c:\\users\\dream walker\\anaconda3\\envs\\ai\\lib\\site-packages (from gensim) (1.5.2)\n",
      "Building wheels for collected packages: smart-open\n",
      "  Building wheel for smart-open (setup.py): started\n",
      "  Building wheel for smart-open (setup.py): finished with status 'done'\n",
      "  Created wheel for smart-open: filename=smart_open-4.0.1-py3-none-any.whl size=108251 sha256=6357ff4e4e4845ab20ee426867b9d047b1f74c18e6d286511b51608dae301602\n",
      "  Stored in directory: c:\\users\\dream walker\\appdata\\local\\pip\\cache\\wheels\\34\\3d\\14\\f19c01a19c9201cdb6a76b049904d5226912569be919ad1eae\n",
      "Successfully built smart-open\n",
      "Installing collected packages: smart-open, Cython, gensim\n",
      "Successfully installed Cython-0.29.14 gensim-3.8.3 smart-open-4.0.1\n"
     ]
    }
   ],
   "source": [
    "!pip install nltk\n",
    "!pip install gensim"
   ]
  },
  {
   "cell_type": "code",
   "execution_count": null,
   "metadata": {
    "colab": {},
    "colab_type": "code",
    "id": "8jiD4_CN7hLb"
   },
   "outputs": [],
   "source": [
    "from google.colab import files\n",
    "\n",
    "uploaded = files.upload()\n",
    "\n",
    "for fn in uploaded.keys():\n",
    "  print('User uploaded file \"{name}\" with length {length} bytes'.format(\n",
    "      name=fn, length=len(uploaded[fn])))"
   ]
  },
  {
   "cell_type": "code",
   "execution_count": 2,
   "metadata": {
    "colab": {},
    "colab_type": "code",
    "id": "6HRyj5t67hZb"
   },
   "outputs": [],
   "source": [
    "from nltk.tokenize import sent_tokenize, word_tokenize \n",
    "import warnings \n",
    "warnings.filterwarnings(action = 'ignore') \n",
    "import gensim \n",
    "from gensim.models import Word2Vec \n",
    "\n",
    "sample = open(\"alice30.txt\", \"r\") \n",
    "s = sample.read() "
   ]
  },
  {
   "cell_type": "code",
   "execution_count": 3,
   "metadata": {
    "colab": {},
    "colab_type": "code",
    "id": "blOWhqWW7jPE"
   },
   "outputs": [],
   "source": [
    "# Replaces escape character with space \n",
    "f = s.replace(\"\\n\", \" \") \n",
    "data = [] \n",
    "\n",
    "# iterate through each sentence in the file \n",
    "for i in sent_tokenize(f): \n",
    "\ttemp = [] \n",
    "\t\n",
    "\t# tokenize the sentence into words \n",
    "\tfor j in word_tokenize(i): \n",
    "\t\ttemp.append(j.lower()) \n",
    "\n",
    "\tdata.append(temp) "
   ]
  },
  {
   "cell_type": "code",
   "execution_count": 4,
   "metadata": {
    "colab": {},
    "colab_type": "code",
    "id": "zbGztQmc8ZJE"
   },
   "outputs": [
    {
     "name": "stdout",
     "output_type": "stream",
     "text": [
      "Cosine similarity between 'alice' and 'wonderland' - CBOW :  0.9963983\n",
      "Cosine similarity between 'alice' and 'machines' - CBOW :  0.98568434\n",
      "Cosine similarity between 'alice' and 'wonderland' - Skip Gram :  0.92214704\n",
      "Cosine similarity between 'alice' and 'machines' - Skip Gram :  0.9084455\n"
     ]
    }
   ],
   "source": [
    "# Create CBOW model \n",
    "model1 = gensim.models.Word2Vec(data, min_count = 1, \n",
    "\t\t\t\t\t\t\tsize = 100, window = 5) \n",
    "# Print results \n",
    "print(\"Cosine similarity between 'alice' \" +\n",
    "\t\t\t\"and 'wonderland' - CBOW : \", \n",
    "\tmodel1.similarity('alice', 'wonderland')) \n",
    "\t\n",
    "print(\"Cosine similarity between 'alice' \" +\n",
    "\t\t\t\t\"and 'machines' - CBOW : \", \n",
    "\tmodel1.similarity('alice', 'machines')) \n",
    "\n",
    "# Create Skip Gram model \n",
    "model2 = gensim.models.Word2Vec(data, min_count = 1, size = 100, \n",
    "\t\t\t\t\t\t\t\t\t\t\twindow = 5, sg = 1) \n",
    "\n",
    "# Print results \n",
    "print(\"Cosine similarity between 'alice' \" +\n",
    "\t\t\"and 'wonderland' - Skip Gram : \", \n",
    "\tmodel2.similarity('alice', 'wonderland')) \n",
    "\t\n",
    "print(\"Cosine similarity between 'alice' \" +\n",
    "\t\t\t\"and 'machines' - Skip Gram : \", \n",
    "\tmodel2.similarity('alice', 'machines')) "
   ]
  },
  {
   "cell_type": "markdown",
   "metadata": {
    "colab_type": "text",
    "id": "t74K-fBA8yYc"
   },
   "source": [
    "Output indicates the cosine similarities between word vectors ‘alice’, ‘wonderland’ and ‘machines’ for different models. One interesting task might be to change the parameter values of ‘size’ and ‘window’ to observe the variations in the cosine similarities.\n",
    " \n",
    "\n",
    "Applications of Word Embedding :\n",
    "\n",
    ">> Sentiment Analysis\n",
    ">> Speech Recognition\n",
    ">> Information Retrieval\n",
    ">> Question Answering"
   ]
  },
  {
   "cell_type": "code",
   "execution_count": 5,
   "metadata": {
    "colab": {},
    "colab_type": "code",
    "id": "FHo1Y1WxtKa1"
   },
   "outputs": [],
   "source": [
    "from gensim.models import Word2Vec\n",
    "# define training data\n",
    "sentences = [['this', 'is', 'the', 'first', 'sentence', 'for', 'word2vec'],\n",
    "['this', 'is', 'the', 'second', 'sentence'],\n",
    "['yet', 'another', 'sentence'],\n",
    "['one', 'more', 'sentence'],\n",
    "['and', 'the', 'final', 'sentence']]\n"
   ]
  },
  {
   "cell_type": "code",
   "execution_count": 6,
   "metadata": {
    "colab": {
     "base_uri": "https://localhost:8080/",
     "height": 34
    },
    "colab_type": "code",
    "id": "e1gCeQoTtKp7",
    "outputId": "9f237a24-e131-4b74-f024-f6568dc17a92"
   },
   "outputs": [
    {
     "name": "stdout",
     "output_type": "stream",
     "text": [
      "Word2Vec(vocab=14, size=100, alpha=0.025)\n"
     ]
    }
   ],
   "source": [
    "# train model\n",
    "model = Word2Vec(sentences, min_count=1)\n",
    "# summarize the loaded model\n",
    "print(model)\n"
   ]
  },
  {
   "cell_type": "code",
   "execution_count": 7,
   "metadata": {
    "colab": {
     "base_uri": "https://localhost:8080/",
     "height": 34
    },
    "colab_type": "code",
    "id": "1ab61e6JuwNV",
    "outputId": "54b50310-85b8-4766-c5d2-ddd11fe06aeb"
   },
   "outputs": [
    {
     "name": "stdout",
     "output_type": "stream",
     "text": [
      "['this', 'is', 'the', 'first', 'sentence', 'for', 'word2vec', 'second', 'yet', 'another', 'one', 'more', 'and', 'final']\n"
     ]
    }
   ],
   "source": [
    "# summarize vocabulary\n",
    "words = list(model.wv.vocab)\n",
    "print(words)\n"
   ]
  },
  {
   "cell_type": "code",
   "execution_count": 9,
   "metadata": {
    "colab": {
     "base_uri": "https://localhost:8080/",
     "height": 496
    },
    "colab_type": "code",
    "id": "XCpdPan4uwaq",
    "outputId": "ecd4b485-5289-4243-b162-11cc4704b903"
   },
   "outputs": [
    {
     "name": "stdout",
     "output_type": "stream",
     "text": [
      "[ 3.0698329e-03  4.2220536e-03 -3.9259917e-03 -2.4417255e-03\n",
      " -3.8187443e-03 -1.1129273e-03  2.4373997e-03  2.0454287e-04\n",
      " -2.4111937e-03 -4.5833956e-03  3.6486366e-03 -4.4108657e-03\n",
      " -1.1958176e-03  2.0299191e-03 -2.5407453e-03  3.1551123e-03\n",
      "  1.9181884e-03  8.2154822e-04  3.2323590e-03  8.4506290e-04\n",
      "  2.4760002e-03  4.5351726e-03 -7.4299268e-04 -1.2467725e-03\n",
      "  3.3307408e-03  6.8487460e-04 -3.1238757e-03  2.9053434e-03\n",
      " -4.8637614e-03  3.0041959e-03 -1.7316098e-03 -1.1653038e-03\n",
      " -1.3408174e-04 -3.6667141e-03 -1.6960814e-03  3.0979388e-03\n",
      " -2.0335577e-03  4.8943087e-03  4.1333106e-03  2.5576823e-03\n",
      " -4.1434253e-03  3.5901521e-03 -1.9664783e-03  4.9138940e-03\n",
      " -3.5593248e-04  4.9087233e-03 -3.5135786e-03 -1.6799073e-04\n",
      " -3.1931594e-03  4.1496856e-03  4.8213247e-03 -3.2537533e-03\n",
      "  4.7177821e-03  1.8919674e-03  3.6120622e-03 -1.0516341e-03\n",
      " -1.1661794e-03  3.8085990e-03  4.6004439e-04  3.2093638e-04\n",
      " -2.7747644e-04  1.2893284e-03  3.7623716e-03 -2.4743646e-03\n",
      " -4.0319143e-03  2.2443931e-03  4.0543708e-03 -3.0471687e-03\n",
      "  4.6363417e-03  1.6921586e-03  3.7480774e-03  2.6909225e-03\n",
      " -2.9029609e-03  5.3410005e-04 -4.9738600e-03 -2.7238717e-03\n",
      "  1.5606858e-03 -1.8273829e-03  1.0545506e-03  7.7137718e-04\n",
      " -5.8952183e-04 -4.1494211e-03 -4.5425883e-03  4.8260861e-03\n",
      "  2.4257747e-03 -5.3003521e-05  4.1899746e-03 -5.7838444e-04\n",
      "  3.9303399e-04 -3.0481080e-03  1.0594836e-03  4.2369515e-03\n",
      " -5.0979998e-04 -3.3482246e-03 -3.2109898e-03  1.4144164e-03\n",
      " -4.4671725e-03  4.6942169e-03  3.5896972e-03  2.5296938e-03]\n"
     ]
    }
   ],
   "source": [
    "# access vector for one word\n",
    "print(model['for'])\n"
   ]
  },
  {
   "cell_type": "code",
   "execution_count": 10,
   "metadata": {
    "colab": {
     "base_uri": "https://localhost:8080/",
     "height": 88
    },
    "colab_type": "code",
    "id": "WhrnysGZuwnc",
    "outputId": "55bb37ab-2fbc-4408-c02a-929375a246f8"
   },
   "outputs": [
    {
     "name": "stdout",
     "output_type": "stream",
     "text": [
      "Word2Vec(vocab=14, size=100, alpha=0.025)\n"
     ]
    }
   ],
   "source": [
    "# save model\n",
    "model.save('model.bin')\n",
    "# load model\n",
    "new_model = Word2Vec.load('model.bin')\n",
    "print(new_model)"
   ]
  },
  {
   "cell_type": "code",
   "execution_count": 11,
   "metadata": {
    "colab": {
     "base_uri": "https://localhost:8080/",
     "height": 319
    },
    "colab_type": "code",
    "id": "xcxjmpTmtNx7",
    "outputId": "690cdce8-bcd6-4605-cf0f-ef69e6557a6d"
   },
   "outputs": [
    {
     "data": {
      "image/png": "[encoded data removed]",
      "text/plain": [
       "<Figure size 432x288 with 1 Axes>"
      ]
     },
     "metadata": {
      "needs_background": "light"
     },
     "output_type": "display_data"
    }
   ],
   "source": [
    "from gensim.models import Word2Vec\n",
    "from sklearn.decomposition import PCA\n",
    "from matplotlib import pyplot\n",
    "\n",
    "# train model\n",
    "model = Word2Vec(sentences, min_count=1)\n",
    "# fit a 2d PCA model to the vectors\n",
    "X = model[model.wv.vocab]\n",
    "pca = PCA(n_components=2)\n",
    "result = pca.fit_transform(X)\n",
    "# create a scatter plot of the projection\n",
    "pyplot.scatter(result[:, 0], result[:, 1])\n",
    "words = list(model.wv.vocab)\n",
    "for i, word in enumerate(words):\n",
    "    pyplot.annotate(word, xy=(result[i, 0], result[i, 1]))\n",
    "pyplot.show()\n"
   ]
  },
  {
   "cell_type": "code",
   "execution_count": 12,
   "metadata": {
    "colab": {
     "base_uri": "https://localhost:8080/",
     "height": 1000
    },
    "colab_type": "code",
    "id": "xLDNNxKmEvC6",
    "outputId": "c3c7eacd-656c-4de6-d93d-5574ee50e8b7"
   },
   "outputs": [
    {
     "name": "stderr",
     "output_type": "stream",
     "text": [
      "Python was not found; run without arguments to install from the Microsoft Store, or disable this shortcut from Settings > Manage App Execution Aliases.\n"
     ]
    },
    {
     "name": "stdout",
     "output_type": "stream",
     "text": [
      "Collecting https://github.com/explosion/spacy-models/releases/download/en_core_web_sm-2.2.0/en_core_web_sm-2.2.0.tar.gz\n",
      "  Downloading https://github.com/explosion/spacy-models/releases/download/en_core_web_sm-2.2.0/en_core_web_sm-2.2.0.tar.gz (12.0 MB)\n",
      "Requirement already satisfied: spacy>=2.2.0 in c:\\users\\dream walker\\anaconda3\\envs\\ai\\lib\\site-packages (from en-core-web-sm==2.2.0) (2.3.2)\n",
      "Requirement already satisfied: requests<3.0.0,>=2.13.0 in c:\\users\\dream walker\\anaconda3\\envs\\ai\\lib\\site-packages (from spacy>=2.2.0->en-core-web-sm==2.2.0) (2.24.0)\n",
      "Requirement already satisfied: srsly<1.1.0,>=1.0.2 in c:\\users\\dream walker\\anaconda3\\envs\\ai\\lib\\site-packages (from spacy>=2.2.0->en-core-web-sm==2.2.0) (1.0.2)\n",
      "Requirement already satisfied: cymem<2.1.0,>=2.0.2 in c:\\users\\dream walker\\anaconda3\\envs\\ai\\lib\\site-packages (from spacy>=2.2.0->en-core-web-sm==2.2.0) (2.0.4)\n",
      "Requirement already satisfied: numpy>=1.15.0 in c:\\users\\dream walker\\anaconda3\\envs\\ai\\lib\\site-packages (from spacy>=2.2.0->en-core-web-sm==2.2.0) (1.19.1)\n",
      "Requirement already satisfied: murmurhash<1.1.0,>=0.28.0 in c:\\users\\dream walker\\anaconda3\\envs\\ai\\lib\\site-packages (from spacy>=2.2.0->en-core-web-sm==2.2.0) (1.0.2)\n",
      "Requirement already satisfied: catalogue<1.1.0,>=0.0.7 in c:\\users\\dream walker\\anaconda3\\envs\\ai\\lib\\site-packages (from spacy>=2.2.0->en-core-web-sm==2.2.0) (1.0.0)\n",
      "Requirement already satisfied: blis<0.5.0,>=0.4.0 in c:\\users\\dream walker\\anaconda3\\envs\\ai\\lib\\site-packages (from spacy>=2.2.0->en-core-web-sm==2.2.0) (0.4.1)\n",
      "Requirement already satisfied: thinc==7.4.1 in c:\\users\\dream walker\\anaconda3\\envs\\ai\\lib\\site-packages (from spacy>=2.2.0->en-core-web-sm==2.2.0) (7.4.1)\n",
      "Requirement already satisfied: setuptools in c:\\users\\dream walker\\anaconda3\\envs\\ai\\lib\\site-packages (from spacy>=2.2.0->en-core-web-sm==2.2.0) (49.6.0.post20200925)\n",
      "Requirement already satisfied: plac<1.2.0,>=0.9.6 in c:\\users\\dream walker\\anaconda3\\envs\\ai\\lib\\site-packages (from spacy>=2.2.0->en-core-web-sm==2.2.0) (0.9.6)\n",
      "Requirement already satisfied: wasabi<1.1.0,>=0.4.0 in c:\\users\\dream walker\\anaconda3\\envs\\ai\\lib\\site-packages (from spacy>=2.2.0->en-core-web-sm==2.2.0) (0.8.0)\n",
      "Requirement already satisfied: preshed<3.1.0,>=3.0.2 in c:\\users\\dream walker\\anaconda3\\envs\\ai\\lib\\site-packages (from spacy>=2.2.0->en-core-web-sm==2.2.0) (3.0.2)\n",
      "Requirement already satisfied: tqdm<5.0.0,>=4.38.0 in c:\\users\\dream walker\\anaconda3\\envs\\ai\\lib\\site-packages (from spacy>=2.2.0->en-core-web-sm==2.2.0) (4.51.0)\n",
      "Requirement already satisfied: idna<3,>=2.5 in c:\\users\\dream walker\\anaconda3\\envs\\ai\\lib\\site-packages (from requests<3.0.0,>=2.13.0->spacy>=2.2.0->en-core-web-sm==2.2.0) (2.10)\n",
      "Requirement already satisfied: chardet<4,>=3.0.2 in c:\\users\\dream walker\\anaconda3\\envs\\ai\\lib\\site-packages (from requests<3.0.0,>=2.13.0->spacy>=2.2.0->en-core-web-sm==2.2.0) (3.0.4)\n",
      "Requirement already satisfied: urllib3!=1.25.0,!=1.25.1,<1.26,>=1.21.1 in c:\\users\\dream walker\\anaconda3\\envs\\ai\\lib\\site-packages (from requests<3.0.0,>=2.13.0->spacy>=2.2.0->en-core-web-sm==2.2.0) (1.25.10)\n",
      "Requirement already satisfied: certifi>=2017.4.17 in c:\\users\\dream walker\\anaconda3\\envs\\ai\\lib\\site-packages (from requests<3.0.0,>=2.13.0->spacy>=2.2.0->en-core-web-sm==2.2.0) (2020.11.8)\n",
      "Requirement already satisfied: importlib-metadata>=0.20; python_version < \"3.8\" in c:\\users\\dream walker\\anaconda3\\envs\\ai\\lib\\site-packages (from catalogue<1.1.0,>=0.0.7->spacy>=2.2.0->en-core-web-sm==2.2.0) (1.7.0)\n",
      "Requirement already satisfied: zipp>=0.5 in c:\\users\\dream walker\\anaconda3\\envs\\ai\\lib\\site-packages (from importlib-metadata>=0.20; python_version < \"3.8\"->catalogue<1.1.0,>=0.0.7->spacy>=2.2.0->en-core-web-sm==2.2.0) (3.1.0)\n",
      "Building wheels for collected packages: en-core-web-sm\n",
      "  Building wheel for en-core-web-sm (setup.py): started\n",
      "  Building wheel for en-core-web-sm (setup.py): finished with status 'done'\n",
      "  Created wheel for en-core-web-sm: filename=en_core_web_sm-2.2.0-py3-none-any.whl size=12019126 sha256=f319cec9c17fb376cfdeedc90444c24c9cb672db629a8055556fe1063c2d4c44\n",
      "  Stored in directory: c:\\users\\dream walker\\appdata\\local\\pip\\cache\\wheels\\64\\69\\41\\6f820cf1d7488a0381a2059f66ec9f8f23116f7c67d18f3d8d\n",
      "Successfully built en-core-web-sm\n",
      "Installing collected packages: en-core-web-sm\n",
      "  Attempting uninstall: en-core-web-sm\n",
      "    Found existing installation: en-core-web-sm 2.3.1\n",
      "    Uninstalling en-core-web-sm-2.3.1:\n",
      "      Successfully uninstalled en-core-web-sm-2.3.1\n",
      "Successfully installed en-core-web-sm-2.2.0\n"
     ]
    }
   ],
   "source": [
    "!python3 -m spacy download en_core_web_sm\n",
    "!pip3 install https://github.com/explosion/spacy-models/releases/download/en_core_web_sm-2.2.0/en_core_web_sm-2.2.0.tar.gz"
   ]
  },
  {
   "cell_type": "code",
   "execution_count": 13,
   "metadata": {
    "colab": {},
    "colab_type": "code",
    "id": "M5rZUhVtEBEs"
   },
   "outputs": [],
   "source": [
    "#!python3 -m spacy download en_core_web_sm\n",
    "import spacy\n",
    "nlp = spacy.load('en_core_web_sm')"
   ]
  },
  {
   "cell_type": "code",
   "execution_count": 14,
   "metadata": {
    "colab": {
     "base_uri": "https://localhost:8080/",
     "height": 34
    },
    "colab_type": "code",
    "id": "k44Jc5L1EBZs",
    "outputId": "cb3f4f55-b2ea-4332-fc0a-af8144a4a53c"
   },
   "outputs": [
    {
     "data": {
      "text/plain": [
       "(96,)"
      ]
     },
     "execution_count": 14,
     "metadata": {},
     "output_type": "execute_result"
    }
   ],
   "source": [
    "nlp('lion').vector.shape"
   ]
  },
  {
   "cell_type": "code",
   "execution_count": 15,
   "metadata": {
    "colab": {
     "base_uri": "https://localhost:8080/",
     "height": 34
    },
    "colab_type": "code",
    "id": "tIz76VFlEBmc",
    "outputId": "ae1fadd9-e609-4541-f447-cdb4d60b0466"
   },
   "outputs": [
    {
     "data": {
      "text/plain": [
       "(96,)"
      ]
     },
     "execution_count": 15,
     "metadata": {},
     "output_type": "execute_result"
    }
   ],
   "source": [
    "doc = nlp('The quick brown fox jumped over the lazy dogs.')\n",
    "\n",
    "doc.vector.shape"
   ]
  },
  {
   "cell_type": "code",
   "execution_count": 16,
   "metadata": {
    "colab": {
     "base_uri": "https://localhost:8080/",
     "height": 394
    },
    "colab_type": "code",
    "id": "AIGtc_jQEBw8",
    "outputId": "636d3753-754b-4a57-fd90-c74dcc69eefb"
   },
   "outputs": [
    {
     "name": "stdout",
     "output_type": "stream",
     "text": [
      "lion lion 1.0\n",
      "lion cat 0.36823785\n",
      "lion pet 0.17687276\n",
      "cat lion 0.36823785\n",
      "cat cat 1.0\n",
      "cat pet 0.38982964\n",
      "pet lion 0.17687276\n",
      "pet cat 0.38982964\n",
      "pet pet 1.0\n"
     ]
    }
   ],
   "source": [
    "# Create a three-token Doc object:\n",
    "tokens = nlp(u'lion cat pet')\n",
    "\n",
    "# Iterate through token combinations:\n",
    "for token1 in tokens:\n",
    "    for token2 in tokens:\n",
    "        print(token1.text, token2.text, token1.similarity(token2))"
   ]
  },
  {
   "cell_type": "code",
   "execution_count": null,
   "metadata": {
    "colab": {
     "base_uri": "https://localhost:8080/",
     "height": 394
    },
    "colab_type": "code",
    "id": "r4g3Z_6hEB7V",
    "outputId": "de444f0c-64f2-4f1f-bf3a-3a5f4feb90c7"
   },
   "outputs": [
    {
     "name": "stdout",
     "output_type": "stream",
     "text": [
      "like like 1.0\n",
      "like love 0.21975423\n",
      "like hate 0.028223615\n",
      "love like 0.21975423\n",
      "love love 1.0\n",
      "love hate 0.3308294\n",
      "hate like 0.028223615\n",
      "hate love 0.3308294\n",
      "hate hate 1.0\n"
     ]
    },
    {
     "name": "stderr",
     "output_type": "stream",
     "text": [
      "/usr/lib/python3.6/runpy.py:193: ModelsWarning: [W007] The model you're using has no word vectors loaded, so the result of the Token.similarity method will be based on the tagger, parser and NER, which may not give useful similarity judgements. This may happen if you're using one of the small models, e.g. `en_core_web_sm`, which don't ship with word vectors and only use context-sensitive tensors. You can always add your own word vectors, or use one of the larger models instead if available.\n",
      "  \"__main__\", mod_spec)\n",
      "/usr/lib/python3.6/runpy.py:193: ModelsWarning: [W007] The model you're using has no word vectors loaded, so the result of the Token.similarity method will be based on the tagger, parser and NER, which may not give useful similarity judgements. This may happen if you're using one of the small models, e.g. `en_core_web_sm`, which don't ship with word vectors and only use context-sensitive tensors. You can always add your own word vectors, or use one of the larger models instead if available.\n",
      "  \"__main__\", mod_spec)\n",
      "/usr/lib/python3.6/runpy.py:193: ModelsWarning: [W007] The model you're using has no word vectors loaded, so the result of the Token.similarity method will be based on the tagger, parser and NER, which may not give useful similarity judgements. This may happen if you're using one of the small models, e.g. `en_core_web_sm`, which don't ship with word vectors and only use context-sensitive tensors. You can always add your own word vectors, or use one of the larger models instead if available.\n",
      "  \"__main__\", mod_spec)\n",
      "/usr/lib/python3.6/runpy.py:193: ModelsWarning: [W007] The model you're using has no word vectors loaded, so the result of the Token.similarity method will be based on the tagger, parser and NER, which may not give useful similarity judgements. This may happen if you're using one of the small models, e.g. `en_core_web_sm`, which don't ship with word vectors and only use context-sensitive tensors. You can always add your own word vectors, or use one of the larger models instead if available.\n",
      "  \"__main__\", mod_spec)\n",
      "/usr/lib/python3.6/runpy.py:193: ModelsWarning: [W007] The model you're using has no word vectors loaded, so the result of the Token.similarity method will be based on the tagger, parser and NER, which may not give useful similarity judgements. This may happen if you're using one of the small models, e.g. `en_core_web_sm`, which don't ship with word vectors and only use context-sensitive tensors. You can always add your own word vectors, or use one of the larger models instead if available.\n",
      "  \"__main__\", mod_spec)\n",
      "/usr/lib/python3.6/runpy.py:193: ModelsWarning: [W007] The model you're using has no word vectors loaded, so the result of the Token.similarity method will be based on the tagger, parser and NER, which may not give useful similarity judgements. This may happen if you're using one of the small models, e.g. `en_core_web_sm`, which don't ship with word vectors and only use context-sensitive tensors. You can always add your own word vectors, or use one of the larger models instead if available.\n",
      "  \"__main__\", mod_spec)\n"
     ]
    }
   ],
   "source": [
    "# Create a three-token Doc object:\n",
    "tokens = nlp(u'like love hate')\n",
    "\n",
    "# Iterate through token combinations:\n",
    "for token1 in tokens:\n",
    "    for token2 in tokens:\n",
    "        print(token1.text, token2.text, token1.similarity(token2))"
   ]
  },
  {
   "cell_type": "code",
   "execution_count": 17,
   "metadata": {
    "colab": {
     "base_uri": "https://localhost:8080/",
     "height": 68
    },
    "colab_type": "code",
    "id": "ST6kOkGMECFU",
    "outputId": "b0f2cc46-d39f-4dc9-c514-b70c4ede7795"
   },
   "outputs": [
    {
     "name": "stdout",
     "output_type": "stream",
     "text": [
      "dog True 19.472973 True\n",
      "cat True 19.326649 True\n",
      "nargle True 22.392693 True\n"
     ]
    }
   ],
   "source": [
    "tokens = nlp('dog cat nargle')\n",
    "\n",
    "for token in tokens:\n",
    "    print(token.text, token.has_vector, token.vector_norm, token.is_oov)"
   ]
  },
  {
   "cell_type": "code",
   "execution_count": null,
   "metadata": {
    "colab": {},
    "colab_type": "code",
    "id": "v1miLiO3Nhw4"
   },
   "outputs": [],
   "source": []
  }
 ],
 "metadata": {
  "accelerator": "TPU",
  "colab": {
   "collapsed_sections": [],
   "name": "WordTwoVector.ipynb",
   "provenance": []
  },
  "kernelspec": {
   "display_name": "Python 3",
   "language": "python",
   "name": "python3"
  },
  "language_info": {
   "codemirror_mode": {
    "name": "ipython",
    "version": 3
   },
   "file_extension": ".py",
   "mimetype": "text/x-python",
   "name": "python",
   "nbconvert_exporter": "python",
   "pygments_lexer": "ipython3",
   "version": "3.7.9"
  }
 },
 "nbformat": 4,
 "nbformat_minor": 1
}
